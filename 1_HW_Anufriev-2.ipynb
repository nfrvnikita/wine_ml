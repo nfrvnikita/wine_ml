{
 "cells": [
  {
   "cell_type": "markdown",
   "id": "b59a940c",
   "metadata": {},
   "source": [
    "## 1. Анализ качества вин"
   ]
  },
  {
   "cell_type": "markdown",
   "id": "96010056",
   "metadata": {},
   "source": [
    "### Импортируем библиотеки"
   ]
  },
  {
   "cell_type": "code",
   "execution_count": 1,
   "id": "ed1333f5",
   "metadata": {},
   "outputs": [],
   "source": [
    "import pandas as pd\n",
    "import numpy as np\n",
    "import matplotlib.pyplot as plt\n",
    "import seaborn as sns\n",
    "from sklearn.neighbors import KNeighborsClassifier\n",
    "from sklearn.model_selection import train_test_split\n",
    "from sklearn.pipeline import Pipeline\n",
    "from sklearn.preprocessing import MinMaxScaler, StandardScaler, RobustScaler, Normalizer\n",
    "from sklearn.model_selection import train_test_split, cross_val_score, GridSearchCV, KFold\n",
    "from sklearn.svm import SVC\n",
    "from sklearn.metrics import classification_report\n",
    "from sklearn.metrics import confusion_matrix\n",
    "from sklearn.model_selection import cross_validate\n",
    "from sklearn.metrics import recall_score\n",
    "from sklearn.pipeline import make_pipeline"
   ]
  },
  {
   "cell_type": "markdown",
   "id": "8a3c1b33",
   "metadata": {},
   "source": [
    "### Загружаем датасеты"
   ]
  },
  {
   "cell_type": "code",
   "execution_count": 2,
   "id": "ec7290aa",
   "metadata": {},
   "outputs": [],
   "source": [
    "train = pd.read_csv('train.csv', sep=',')"
   ]
  },
  {
   "cell_type": "markdown",
   "id": "a3367f36",
   "metadata": {},
   "source": [
    "### Выводим head нашего датасета"
   ]
  },
  {
   "cell_type": "code",
   "execution_count": 3,
   "id": "4bb9a285",
   "metadata": {},
   "outputs": [
    {
     "data": {
      "text/html": [
       "<div>\n",
       "<style scoped>\n",
       "    .dataframe tbody tr th:only-of-type {\n",
       "        vertical-align: middle;\n",
       "    }\n",
       "\n",
       "    .dataframe tbody tr th {\n",
       "        vertical-align: top;\n",
       "    }\n",
       "\n",
       "    .dataframe thead th {\n",
       "        text-align: right;\n",
       "    }\n",
       "</style>\n",
       "<table border=\"1\" class=\"dataframe\">\n",
       "  <thead>\n",
       "    <tr style=\"text-align: right;\">\n",
       "      <th></th>\n",
       "      <th>fixed_acidity</th>\n",
       "      <th>volatile_acidity</th>\n",
       "      <th>citric_acid</th>\n",
       "      <th>residual_sugar</th>\n",
       "      <th>chlorides</th>\n",
       "      <th>free_sulfur_dioxide</th>\n",
       "      <th>total_sulfur_dioxide</th>\n",
       "      <th>density</th>\n",
       "      <th>pH</th>\n",
       "      <th>sulphates</th>\n",
       "      <th>alcohol</th>\n",
       "      <th>quality</th>\n",
       "    </tr>\n",
       "  </thead>\n",
       "  <tbody>\n",
       "    <tr>\n",
       "      <th>0</th>\n",
       "      <td>7.4</td>\n",
       "      <td>0.550</td>\n",
       "      <td>0.19</td>\n",
       "      <td>1.8</td>\n",
       "      <td>0.082</td>\n",
       "      <td>15.0</td>\n",
       "      <td>34.0</td>\n",
       "      <td>0.99655</td>\n",
       "      <td>3.49</td>\n",
       "      <td>0.68</td>\n",
       "      <td>10.5</td>\n",
       "      <td>5</td>\n",
       "    </tr>\n",
       "    <tr>\n",
       "      <th>1</th>\n",
       "      <td>8.8</td>\n",
       "      <td>0.310</td>\n",
       "      <td>0.40</td>\n",
       "      <td>2.8</td>\n",
       "      <td>0.109</td>\n",
       "      <td>7.0</td>\n",
       "      <td>16.0</td>\n",
       "      <td>0.99614</td>\n",
       "      <td>3.31</td>\n",
       "      <td>0.79</td>\n",
       "      <td>11.8</td>\n",
       "      <td>7</td>\n",
       "    </tr>\n",
       "    <tr>\n",
       "      <th>2</th>\n",
       "      <td>6.9</td>\n",
       "      <td>0.540</td>\n",
       "      <td>0.30</td>\n",
       "      <td>2.2</td>\n",
       "      <td>0.088</td>\n",
       "      <td>9.0</td>\n",
       "      <td>105.0</td>\n",
       "      <td>0.99725</td>\n",
       "      <td>3.25</td>\n",
       "      <td>1.18</td>\n",
       "      <td>10.5</td>\n",
       "      <td>6</td>\n",
       "    </tr>\n",
       "    <tr>\n",
       "      <th>3</th>\n",
       "      <td>10.1</td>\n",
       "      <td>0.935</td>\n",
       "      <td>0.22</td>\n",
       "      <td>3.4</td>\n",
       "      <td>0.105</td>\n",
       "      <td>11.0</td>\n",
       "      <td>86.0</td>\n",
       "      <td>1.00100</td>\n",
       "      <td>3.43</td>\n",
       "      <td>0.64</td>\n",
       "      <td>11.3</td>\n",
       "      <td>4</td>\n",
       "    </tr>\n",
       "    <tr>\n",
       "      <th>4</th>\n",
       "      <td>9.9</td>\n",
       "      <td>0.540</td>\n",
       "      <td>0.45</td>\n",
       "      <td>2.3</td>\n",
       "      <td>0.071</td>\n",
       "      <td>16.0</td>\n",
       "      <td>40.0</td>\n",
       "      <td>0.99910</td>\n",
       "      <td>3.39</td>\n",
       "      <td>0.62</td>\n",
       "      <td>9.4</td>\n",
       "      <td>5</td>\n",
       "    </tr>\n",
       "  </tbody>\n",
       "</table>\n",
       "</div>"
      ],
      "text/plain": [
       "   fixed_acidity  volatile_acidity  citric_acid  residual_sugar  chlorides  \\\n",
       "0            7.4             0.550         0.19             1.8      0.082   \n",
       "1            8.8             0.310         0.40             2.8      0.109   \n",
       "2            6.9             0.540         0.30             2.2      0.088   \n",
       "3           10.1             0.935         0.22             3.4      0.105   \n",
       "4            9.9             0.540         0.45             2.3      0.071   \n",
       "\n",
       "   free_sulfur_dioxide  total_sulfur_dioxide  density    pH  sulphates  \\\n",
       "0                 15.0                  34.0  0.99655  3.49       0.68   \n",
       "1                  7.0                  16.0  0.99614  3.31       0.79   \n",
       "2                  9.0                 105.0  0.99725  3.25       1.18   \n",
       "3                 11.0                  86.0  1.00100  3.43       0.64   \n",
       "4                 16.0                  40.0  0.99910  3.39       0.62   \n",
       "\n",
       "   alcohol  quality  \n",
       "0     10.5        5  \n",
       "1     11.8        7  \n",
       "2     10.5        6  \n",
       "3     11.3        4  \n",
       "4      9.4        5  "
      ]
     },
     "execution_count": 3,
     "metadata": {},
     "output_type": "execute_result"
    }
   ],
   "source": [
    "train.head()"
   ]
  },
  {
   "cell_type": "markdown",
   "id": "1846bd80",
   "metadata": {},
   "source": [
    "### Смотрим размерность датасета"
   ]
  },
  {
   "cell_type": "code",
   "execution_count": 4,
   "id": "94c7b0dc",
   "metadata": {},
   "outputs": [
    {
     "name": "stdout",
     "output_type": "stream",
     "text": [
      "Размер датасета:  (1199, 12)\n"
     ]
    }
   ],
   "source": [
    "print('Размер датасета: ', train.shape)"
   ]
  },
  {
   "cell_type": "markdown",
   "id": "c5ca4c5a",
   "metadata": {},
   "source": [
    "### Проверяем info()"
   ]
  },
  {
   "cell_type": "code",
   "execution_count": 5,
   "id": "0173c809",
   "metadata": {},
   "outputs": [
    {
     "name": "stdout",
     "output_type": "stream",
     "text": [
      "<class 'pandas.core.frame.DataFrame'>\n",
      "RangeIndex: 1199 entries, 0 to 1198\n",
      "Data columns (total 12 columns):\n",
      " #   Column                Non-Null Count  Dtype  \n",
      "---  ------                --------------  -----  \n",
      " 0   fixed_acidity         1199 non-null   float64\n",
      " 1   volatile_acidity      1199 non-null   float64\n",
      " 2   citric_acid           1199 non-null   float64\n",
      " 3   residual_sugar        1199 non-null   float64\n",
      " 4   chlorides             1199 non-null   float64\n",
      " 5   free_sulfur_dioxide   1199 non-null   float64\n",
      " 6   total_sulfur_dioxide  1199 non-null   float64\n",
      " 7   density               1199 non-null   float64\n",
      " 8   pH                    1199 non-null   float64\n",
      " 9   sulphates             1199 non-null   float64\n",
      " 10  alcohol               1199 non-null   float64\n",
      " 11  quality               1199 non-null   int64  \n",
      "dtypes: float64(11), int64(1)\n",
      "memory usage: 112.5 KB\n"
     ]
    }
   ],
   "source": [
    "train.info()"
   ]
  },
  {
   "cell_type": "markdown",
   "id": "0292c56e",
   "metadata": {},
   "source": [
    "### Проверяем на нулевые значения"
   ]
  },
  {
   "cell_type": "code",
   "execution_count": 6,
   "id": "6a73ac0e",
   "metadata": {},
   "outputs": [
    {
     "data": {
      "text/plain": [
       "fixed_acidity           0\n",
       "volatile_acidity        0\n",
       "citric_acid             0\n",
       "residual_sugar          0\n",
       "chlorides               0\n",
       "free_sulfur_dioxide     0\n",
       "total_sulfur_dioxide    0\n",
       "density                 0\n",
       "pH                      0\n",
       "sulphates               0\n",
       "alcohol                 0\n",
       "quality                 0\n",
       "dtype: int64"
      ]
     },
     "execution_count": 6,
     "metadata": {},
     "output_type": "execute_result"
    }
   ],
   "source": [
    "train.isna().sum()"
   ]
  },
  {
   "cell_type": "markdown",
   "id": "77e4abec",
   "metadata": {},
   "source": [
    "## 2. Строим модель машинного обучения"
   ]
  },
  {
   "cell_type": "code",
   "execution_count": 7,
   "id": "5dab4c84",
   "metadata": {},
   "outputs": [],
   "source": [
    "train.quality = np.where(train.iloc[:,-1].values >= 7, 1, 0)"
   ]
  },
  {
   "cell_type": "code",
   "execution_count": 8,
   "id": "6339eb1e",
   "metadata": {},
   "outputs": [
    {
     "data": {
      "text/html": [
       "<div>\n",
       "<style scoped>\n",
       "    .dataframe tbody tr th:only-of-type {\n",
       "        vertical-align: middle;\n",
       "    }\n",
       "\n",
       "    .dataframe tbody tr th {\n",
       "        vertical-align: top;\n",
       "    }\n",
       "\n",
       "    .dataframe thead th {\n",
       "        text-align: right;\n",
       "    }\n",
       "</style>\n",
       "<table border=\"1\" class=\"dataframe\">\n",
       "  <thead>\n",
       "    <tr style=\"text-align: right;\">\n",
       "      <th></th>\n",
       "      <th>fixed_acidity</th>\n",
       "      <th>volatile_acidity</th>\n",
       "      <th>citric_acid</th>\n",
       "      <th>residual_sugar</th>\n",
       "      <th>chlorides</th>\n",
       "      <th>free_sulfur_dioxide</th>\n",
       "      <th>total_sulfur_dioxide</th>\n",
       "      <th>density</th>\n",
       "      <th>pH</th>\n",
       "      <th>sulphates</th>\n",
       "      <th>alcohol</th>\n",
       "    </tr>\n",
       "  </thead>\n",
       "  <tbody>\n",
       "    <tr>\n",
       "      <th>0</th>\n",
       "      <td>7.4</td>\n",
       "      <td>0.550</td>\n",
       "      <td>0.19</td>\n",
       "      <td>1.8</td>\n",
       "      <td>0.082</td>\n",
       "      <td>15.0</td>\n",
       "      <td>34.0</td>\n",
       "      <td>0.99655</td>\n",
       "      <td>3.49</td>\n",
       "      <td>0.68</td>\n",
       "      <td>10.5</td>\n",
       "    </tr>\n",
       "    <tr>\n",
       "      <th>1</th>\n",
       "      <td>8.8</td>\n",
       "      <td>0.310</td>\n",
       "      <td>0.40</td>\n",
       "      <td>2.8</td>\n",
       "      <td>0.109</td>\n",
       "      <td>7.0</td>\n",
       "      <td>16.0</td>\n",
       "      <td>0.99614</td>\n",
       "      <td>3.31</td>\n",
       "      <td>0.79</td>\n",
       "      <td>11.8</td>\n",
       "    </tr>\n",
       "    <tr>\n",
       "      <th>2</th>\n",
       "      <td>6.9</td>\n",
       "      <td>0.540</td>\n",
       "      <td>0.30</td>\n",
       "      <td>2.2</td>\n",
       "      <td>0.088</td>\n",
       "      <td>9.0</td>\n",
       "      <td>105.0</td>\n",
       "      <td>0.99725</td>\n",
       "      <td>3.25</td>\n",
       "      <td>1.18</td>\n",
       "      <td>10.5</td>\n",
       "    </tr>\n",
       "    <tr>\n",
       "      <th>3</th>\n",
       "      <td>10.1</td>\n",
       "      <td>0.935</td>\n",
       "      <td>0.22</td>\n",
       "      <td>3.4</td>\n",
       "      <td>0.105</td>\n",
       "      <td>11.0</td>\n",
       "      <td>86.0</td>\n",
       "      <td>1.00100</td>\n",
       "      <td>3.43</td>\n",
       "      <td>0.64</td>\n",
       "      <td>11.3</td>\n",
       "    </tr>\n",
       "    <tr>\n",
       "      <th>4</th>\n",
       "      <td>9.9</td>\n",
       "      <td>0.540</td>\n",
       "      <td>0.45</td>\n",
       "      <td>2.3</td>\n",
       "      <td>0.071</td>\n",
       "      <td>16.0</td>\n",
       "      <td>40.0</td>\n",
       "      <td>0.99910</td>\n",
       "      <td>3.39</td>\n",
       "      <td>0.62</td>\n",
       "      <td>9.4</td>\n",
       "    </tr>\n",
       "  </tbody>\n",
       "</table>\n",
       "</div>"
      ],
      "text/plain": [
       "   fixed_acidity  volatile_acidity  citric_acid  residual_sugar  chlorides  \\\n",
       "0            7.4             0.550         0.19             1.8      0.082   \n",
       "1            8.8             0.310         0.40             2.8      0.109   \n",
       "2            6.9             0.540         0.30             2.2      0.088   \n",
       "3           10.1             0.935         0.22             3.4      0.105   \n",
       "4            9.9             0.540         0.45             2.3      0.071   \n",
       "\n",
       "   free_sulfur_dioxide  total_sulfur_dioxide  density    pH  sulphates  \\\n",
       "0                 15.0                  34.0  0.99655  3.49       0.68   \n",
       "1                  7.0                  16.0  0.99614  3.31       0.79   \n",
       "2                  9.0                 105.0  0.99725  3.25       1.18   \n",
       "3                 11.0                  86.0  1.00100  3.43       0.64   \n",
       "4                 16.0                  40.0  0.99910  3.39       0.62   \n",
       "\n",
       "   alcohol  \n",
       "0     10.5  \n",
       "1     11.8  \n",
       "2     10.5  \n",
       "3     11.3  \n",
       "4      9.4  "
      ]
     },
     "execution_count": 8,
     "metadata": {},
     "output_type": "execute_result"
    }
   ],
   "source": [
    "X = train.drop(columns=['quality'])\n",
    "X.head()"
   ]
  },
  {
   "cell_type": "code",
   "execution_count": 9,
   "id": "a25ecd3c",
   "metadata": {},
   "outputs": [
    {
     "data": {
      "text/plain": [
       "array([0, 1, 0, 0, 0])"
      ]
     },
     "execution_count": 9,
     "metadata": {},
     "output_type": "execute_result"
    }
   ],
   "source": [
    "y = train['quality'].values\n",
    "y[0:5]"
   ]
  },
  {
   "cell_type": "code",
   "execution_count": 10,
   "id": "9c34834b",
   "metadata": {},
   "outputs": [],
   "source": [
    "X_train, X_test, y_train, y_test = train_test_split(X, y, test_size=0.2, random_state=1, stratify=y)"
   ]
  },
  {
   "cell_type": "code",
   "execution_count": 11,
   "id": "0ec1276f",
   "metadata": {},
   "outputs": [
    {
     "data": {
      "text/plain": [
       "array([0, 0, 0, 0, 0])"
      ]
     },
     "execution_count": 11,
     "metadata": {},
     "output_type": "execute_result"
    }
   ],
   "source": [
    "knn = KNeighborsClassifier(n_neighbors = 30)\n",
    "knn.fit(X_train, y_train)\n",
    "knn.predict(X_test)[0:5]"
   ]
  },
  {
   "cell_type": "code",
   "execution_count": 12,
   "id": "0aaa78d4",
   "metadata": {},
   "outputs": [
    {
     "name": "stdout",
     "output_type": "stream",
     "text": [
      "Процент предикшена:  0.8666666666666667\n"
     ]
    }
   ],
   "source": [
    "print('Процент предикшена: ', knn.score(X_test, y_test))"
   ]
  },
  {
   "cell_type": "code",
   "execution_count": 13,
   "id": "2300550d",
   "metadata": {},
   "outputs": [
    {
     "data": {
      "image/png": "[encoded data removed]",
      "text/plain": [
       "<Figure size 432x288 with 1 Axes>"
      ]
     },
     "metadata": {
      "needs_background": "light"
     },
     "output_type": "display_data"
    }
   ],
   "source": [
    "split = KFold(n_splits=8)\n",
    "\n",
    "ax = []\n",
    "ay = []\n",
    "for i in range (1, 50):\n",
    "    knn = KNeighborsClassifier(n_neighbors=i)\n",
    "    cross = cross_val_score(knn, X_train, y_train, cv=split)\n",
    "    ax.append(i)\n",
    "    ay.append(np.mean(cross))\n",
    "\n",
    "plt.plot(ax, ay, color='b')\n",
    "plt.title(\"График кроссвалидации\")\n",
    "plt.show()"
   ]
  },
  {
   "cell_type": "markdown",
   "id": "53149bb4",
   "metadata": {},
   "source": [
    "### Осуществляем гипертюнинг при помощи GridSearchCV"
   ]
  },
  {
   "cell_type": "code",
   "execution_count": 14,
   "id": "eee717f5",
   "metadata": {},
   "outputs": [
    {
     "name": "stdout",
     "output_type": "stream",
     "text": [
      "CV_Scores:  [0.859375   0.875      0.86458333 0.86979167 0.86387435]\n",
      "\n",
      "Среднее значение перекрестной проверки: 0.8665248691099476\n",
      "\n",
      "Словарь с параметрами для лучшего решения:\n",
      "  {'n_neighbors': 4}\n",
      "\n",
      "Наилучший процент предикшена:  0.8779886561954624\n",
      "Настройки лучшей модели в контейнере:\n",
      "KNeighborsClassifier(n_neighbors=4)\n",
      "\n"
     ]
    }
   ],
   "source": [
    "knn_cv = KNeighborsClassifier(n_neighbors=10)\n",
    "cv_scores = cross_val_score(knn_cv, X_train, y_train, cv=5)\n",
    "print('CV_Scores: ', cv_scores)\n",
    "print('\\nСреднее значение перекрестной проверки: {}'.format(np.mean(cv_scores)))\n",
    "\n",
    "knn2 = KNeighborsClassifier()\n",
    "param_grid = {'n_neighbors': np.arange(1, 50)}\n",
    "knn_gscv = GridSearchCV(knn2, param_grid, cv=5)\n",
    "knn_gscv.fit(X_train, y_train)\n",
    "\n",
    "print('\\nСловарь с параметрами для лучшего решения:\\n ', knn_gscv.best_params_)\n",
    "print('\\nНаилучший процент предикшена: ', knn_gscv.best_score_)\n",
    "\n",
    "print(\"Настройки лучшей модели в контейнере:\\n{}\\n\".format(knn_gscv.best_estimator_))"
   ]
  },
  {
   "cell_type": "code",
   "execution_count": 15,
   "id": "07260e68",
   "metadata": {},
   "outputs": [],
   "source": [
    "pipeline_final = make_pipeline(Normalizer(), KNeighborsClassifier(n_neighbors=4, weights='distance'))\n",
    "pipeline_final.fit(X, y)\n",
    "\n",
    "test_df = pd.read_csv(\"test.csv\")\n",
    "y_predict = pipeline_final.predict(test_df)"
   ]
  },
  {
   "cell_type": "code",
   "execution_count": null,
   "id": "c487cd2b",
   "metadata": {},
   "outputs": [],
   "source": []
  }
 ],
 "metadata": {
  "kernelspec": {
   "display_name": "Python 3",
   "language": "python",
   "name": "python3"
  },
  "language_info": {
   "codemirror_mode": {
    "name": "ipython",
    "version": 3
   },
   "file_extension": ".py",
   "mimetype": "text/x-python",
   "name": "python",
   "nbconvert_exporter": "python",
   "pygments_lexer": "ipython3",
   "version": "3.8.8"
  }
 },
 "nbformat": 4,
 "nbformat_minor": 5
}
